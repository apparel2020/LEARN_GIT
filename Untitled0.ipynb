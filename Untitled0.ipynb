{
  "nbformat": 4,
  "nbformat_minor": 0,
  "metadata": {
    "colab": {
      "provenance": [],
      "gpuType": "T4",
      "authorship_tag": "ABX9TyNhk7IggAhzlysq0O7E8Ph1",
      "include_colab_link": true
    },
    "kernelspec": {
      "name": "python3",
      "display_name": "Python 3"
    },
    "language_info": {
      "name": "python"
    },
    "accelerator": "GPU"
  },
  "cells": [
    {
      "cell_type": "markdown",
      "metadata": {
        "id": "view-in-github",
        "colab_type": "text"
      },
      "source": [
        "<a href=\"https://colab.research.google.com/github/apparel2020/LEARN_GIT/blob/master/Untitled0.ipynb\" target=\"_parent\"><img src=\"https://colab.research.google.com/assets/colab-badge.svg\" alt=\"Open In Colab\"/></a>"
      ]
    },
    {
      "cell_type": "code",
      "execution_count": 1,
      "metadata": {
        "id": "EMVKfAmF9F8d",
        "colab": {
          "base_uri": "https://localhost:8080/"
        },
        "outputId": "0a562c87-c8e8-4094-8268-5e60ca48087a"
      },
      "outputs": [
        {
          "output_type": "stream",
          "name": "stdout",
          "text": [
            "Collecting git+https://github.com/openai/whisper.git\n",
            "  Cloning https://github.com/openai/whisper.git to /tmp/pip-req-build-gzn88ggn\n",
            "  Running command git clone --filter=blob:none --quiet https://github.com/openai/whisper.git /tmp/pip-req-build-gzn88ggn\n",
            "  Resolved https://github.com/openai/whisper.git to commit 517a43ecd132a2089d85f4ebc044728a71d49f6e\n",
            "  Installing build dependencies ... \u001b[?25l\u001b[?25hdone\n",
            "  Getting requirements to build wheel ... \u001b[?25l\u001b[?25hdone\n",
            "  Preparing metadata (pyproject.toml) ... \u001b[?25l\u001b[?25hdone\n",
            "Requirement already satisfied: more-itertools in /usr/local/lib/python3.11/dist-packages (from openai-whisper==20240930) (10.6.0)\n",
            "Requirement already satisfied: numba in /usr/local/lib/python3.11/dist-packages (from openai-whisper==20240930) (0.60.0)\n",
            "Requirement already satisfied: numpy in /usr/local/lib/python3.11/dist-packages (from openai-whisper==20240930) (2.0.2)\n",
            "Collecting tiktoken (from openai-whisper==20240930)\n",
            "  Downloading tiktoken-0.9.0-cp311-cp311-manylinux_2_17_x86_64.manylinux2014_x86_64.whl.metadata (6.7 kB)\n",
            "Requirement already satisfied: torch in /usr/local/lib/python3.11/dist-packages (from openai-whisper==20240930) (2.6.0+cu124)\n",
            "Requirement already satisfied: tqdm in /usr/local/lib/python3.11/dist-packages (from openai-whisper==20240930) (4.67.1)\n",
            "Requirement already satisfied: triton>=2 in /usr/local/lib/python3.11/dist-packages (from openai-whisper==20240930) (3.2.0)\n",
            "Requirement already satisfied: llvmlite<0.44,>=0.43.0dev0 in /usr/local/lib/python3.11/dist-packages (from numba->openai-whisper==20240930) (0.43.0)\n",
            "Requirement already satisfied: regex>=2022.1.18 in /usr/local/lib/python3.11/dist-packages (from tiktoken->openai-whisper==20240930) (2024.11.6)\n",
            "Requirement already satisfied: requests>=2.26.0 in /usr/local/lib/python3.11/dist-packages (from tiktoken->openai-whisper==20240930) (2.32.3)\n",
            "Requirement already satisfied: filelock in /usr/local/lib/python3.11/dist-packages (from torch->openai-whisper==20240930) (3.18.0)\n",
            "Requirement already satisfied: typing-extensions>=4.10.0 in /usr/local/lib/python3.11/dist-packages (from torch->openai-whisper==20240930) (4.12.2)\n",
            "Requirement already satisfied: networkx in /usr/local/lib/python3.11/dist-packages (from torch->openai-whisper==20240930) (3.4.2)\n",
            "Requirement already satisfied: jinja2 in /usr/local/lib/python3.11/dist-packages (from torch->openai-whisper==20240930) (3.1.6)\n",
            "Requirement already satisfied: fsspec in /usr/local/lib/python3.11/dist-packages (from torch->openai-whisper==20240930) (2025.3.0)\n",
            "Collecting nvidia-cuda-nvrtc-cu12==12.4.127 (from torch->openai-whisper==20240930)\n",
            "  Downloading nvidia_cuda_nvrtc_cu12-12.4.127-py3-none-manylinux2014_x86_64.whl.metadata (1.5 kB)\n",
            "Collecting nvidia-cuda-runtime-cu12==12.4.127 (from torch->openai-whisper==20240930)\n",
            "  Downloading nvidia_cuda_runtime_cu12-12.4.127-py3-none-manylinux2014_x86_64.whl.metadata (1.5 kB)\n",
            "Collecting nvidia-cuda-cupti-cu12==12.4.127 (from torch->openai-whisper==20240930)\n",
            "  Downloading nvidia_cuda_cupti_cu12-12.4.127-py3-none-manylinux2014_x86_64.whl.metadata (1.6 kB)\n",
            "Collecting nvidia-cudnn-cu12==9.1.0.70 (from torch->openai-whisper==20240930)\n",
            "  Downloading nvidia_cudnn_cu12-9.1.0.70-py3-none-manylinux2014_x86_64.whl.metadata (1.6 kB)\n",
            "Collecting nvidia-cublas-cu12==12.4.5.8 (from torch->openai-whisper==20240930)\n",
            "  Downloading nvidia_cublas_cu12-12.4.5.8-py3-none-manylinux2014_x86_64.whl.metadata (1.5 kB)\n",
            "Collecting nvidia-cufft-cu12==11.2.1.3 (from torch->openai-whisper==20240930)\n",
            "  Downloading nvidia_cufft_cu12-11.2.1.3-py3-none-manylinux2014_x86_64.whl.metadata (1.5 kB)\n",
            "Collecting nvidia-curand-cu12==10.3.5.147 (from torch->openai-whisper==20240930)\n",
            "  Downloading nvidia_curand_cu12-10.3.5.147-py3-none-manylinux2014_x86_64.whl.metadata (1.5 kB)\n",
            "Collecting nvidia-cusolver-cu12==11.6.1.9 (from torch->openai-whisper==20240930)\n",
            "  Downloading nvidia_cusolver_cu12-11.6.1.9-py3-none-manylinux2014_x86_64.whl.metadata (1.6 kB)\n",
            "Collecting nvidia-cusparse-cu12==12.3.1.170 (from torch->openai-whisper==20240930)\n",
            "  Downloading nvidia_cusparse_cu12-12.3.1.170-py3-none-manylinux2014_x86_64.whl.metadata (1.6 kB)\n",
            "Requirement already satisfied: nvidia-cusparselt-cu12==0.6.2 in /usr/local/lib/python3.11/dist-packages (from torch->openai-whisper==20240930) (0.6.2)\n",
            "Requirement already satisfied: nvidia-nccl-cu12==2.21.5 in /usr/local/lib/python3.11/dist-packages (from torch->openai-whisper==20240930) (2.21.5)\n",
            "Requirement already satisfied: nvidia-nvtx-cu12==12.4.127 in /usr/local/lib/python3.11/dist-packages (from torch->openai-whisper==20240930) (12.4.127)\n",
            "Collecting nvidia-nvjitlink-cu12==12.4.127 (from torch->openai-whisper==20240930)\n",
            "  Downloading nvidia_nvjitlink_cu12-12.4.127-py3-none-manylinux2014_x86_64.whl.metadata (1.5 kB)\n",
            "Requirement already satisfied: sympy==1.13.1 in /usr/local/lib/python3.11/dist-packages (from torch->openai-whisper==20240930) (1.13.1)\n",
            "Requirement already satisfied: mpmath<1.4,>=1.1.0 in /usr/local/lib/python3.11/dist-packages (from sympy==1.13.1->torch->openai-whisper==20240930) (1.3.0)\n",
            "Requirement already satisfied: charset-normalizer<4,>=2 in /usr/local/lib/python3.11/dist-packages (from requests>=2.26.0->tiktoken->openai-whisper==20240930) (3.4.1)\n",
            "Requirement already satisfied: idna<4,>=2.5 in /usr/local/lib/python3.11/dist-packages (from requests>=2.26.0->tiktoken->openai-whisper==20240930) (3.10)\n",
            "Requirement already satisfied: urllib3<3,>=1.21.1 in /usr/local/lib/python3.11/dist-packages (from requests>=2.26.0->tiktoken->openai-whisper==20240930) (2.3.0)\n",
            "Requirement already satisfied: certifi>=2017.4.17 in /usr/local/lib/python3.11/dist-packages (from requests>=2.26.0->tiktoken->openai-whisper==20240930) (2025.1.31)\n",
            "Requirement already satisfied: MarkupSafe>=2.0 in /usr/local/lib/python3.11/dist-packages (from jinja2->torch->openai-whisper==20240930) (3.0.2)\n",
            "Downloading tiktoken-0.9.0-cp311-cp311-manylinux_2_17_x86_64.manylinux2014_x86_64.whl (1.2 MB)\n",
            "\u001b[2K   \u001b[90m━━━━━━━━━━━━━━━━━━━━━━━━━━━━━━━━━━━━━━━━\u001b[0m \u001b[32m1.2/1.2 MB\u001b[0m \u001b[31m39.0 MB/s\u001b[0m eta \u001b[36m0:00:00\u001b[0m\n",
            "\u001b[?25hDownloading nvidia_cublas_cu12-12.4.5.8-py3-none-manylinux2014_x86_64.whl (363.4 MB)\n",
            "\u001b[2K   \u001b[90m━━━━━━━━━━━━━━━━━━━━━━━━━━━━━━━━━━━━━━━━\u001b[0m \u001b[32m363.4/363.4 MB\u001b[0m \u001b[31m4.6 MB/s\u001b[0m eta \u001b[36m0:00:00\u001b[0m\n",
            "\u001b[?25hDownloading nvidia_cuda_cupti_cu12-12.4.127-py3-none-manylinux2014_x86_64.whl (13.8 MB)\n",
            "\u001b[2K   \u001b[90m━━━━━━━━━━━━━━━━━━━━━━━━━━━━━━━━━━━━━━━━\u001b[0m \u001b[32m13.8/13.8 MB\u001b[0m \u001b[31m43.0 MB/s\u001b[0m eta \u001b[36m0:00:00\u001b[0m\n",
            "\u001b[?25hDownloading nvidia_cuda_nvrtc_cu12-12.4.127-py3-none-manylinux2014_x86_64.whl (24.6 MB)\n",
            "\u001b[2K   \u001b[90m━━━━━━━━━━━━━━━━━━━━━━━━━━━━━━━━━━━━━━━━\u001b[0m \u001b[32m24.6/24.6 MB\u001b[0m \u001b[31m30.6 MB/s\u001b[0m eta \u001b[36m0:00:00\u001b[0m\n",
            "\u001b[?25hDownloading nvidia_cuda_runtime_cu12-12.4.127-py3-none-manylinux2014_x86_64.whl (883 kB)\n",
            "\u001b[2K   \u001b[90m━━━━━━━━━━━━━━━━━━━━━━━━━━━━━━━━━━━━━━━━\u001b[0m \u001b[32m883.7/883.7 kB\u001b[0m \u001b[31m35.2 MB/s\u001b[0m eta \u001b[36m0:00:00\u001b[0m\n",
            "\u001b[?25hDownloading nvidia_cudnn_cu12-9.1.0.70-py3-none-manylinux2014_x86_64.whl (664.8 MB)\n",
            "\u001b[2K   \u001b[90m━━━━━━━━━━━━━━━━━━━━━━━━━━━━━━━━━━━━━━━━\u001b[0m \u001b[32m664.8/664.8 MB\u001b[0m \u001b[31m2.1 MB/s\u001b[0m eta \u001b[36m0:00:00\u001b[0m\n",
            "\u001b[?25hDownloading nvidia_cufft_cu12-11.2.1.3-py3-none-manylinux2014_x86_64.whl (211.5 MB)\n",
            "\u001b[2K   \u001b[90m━━━━━━━━━━━━━━━━━━━━━━━━━━━━━━━━━━━━━━━━\u001b[0m \u001b[32m211.5/211.5 MB\u001b[0m \u001b[31m5.7 MB/s\u001b[0m eta \u001b[36m0:00:00\u001b[0m\n",
            "\u001b[?25hDownloading nvidia_curand_cu12-10.3.5.147-py3-none-manylinux2014_x86_64.whl (56.3 MB)\n",
            "\u001b[2K   \u001b[90m━━━━━━━━━━━━━━━━━━━━━━━━━━━━━━━━━━━━━━━━\u001b[0m \u001b[32m56.3/56.3 MB\u001b[0m \u001b[31m11.9 MB/s\u001b[0m eta \u001b[36m0:00:00\u001b[0m\n",
            "\u001b[?25hDownloading nvidia_cusolver_cu12-11.6.1.9-py3-none-manylinux2014_x86_64.whl (127.9 MB)\n",
            "\u001b[2K   \u001b[90m━━━━━━━━━━━━━━━━━━━━━━━━━━━━━━━━━━━━━━━━\u001b[0m \u001b[32m127.9/127.9 MB\u001b[0m \u001b[31m7.1 MB/s\u001b[0m eta \u001b[36m0:00:00\u001b[0m\n",
            "\u001b[?25hDownloading nvidia_cusparse_cu12-12.3.1.170-py3-none-manylinux2014_x86_64.whl (207.5 MB)\n",
            "\u001b[2K   \u001b[90m━━━━━━━━━━━━━━━━━━━━━━━━━━━━━━━━━━━━━━━━\u001b[0m \u001b[32m207.5/207.5 MB\u001b[0m \u001b[31m7.8 MB/s\u001b[0m eta \u001b[36m0:00:00\u001b[0m\n",
            "\u001b[?25hDownloading nvidia_nvjitlink_cu12-12.4.127-py3-none-manylinux2014_x86_64.whl (21.1 MB)\n",
            "\u001b[2K   \u001b[90m━━━━━━━━━━━━━━━━━━━━━━━━━━━━━━━━━━━━━━━━\u001b[0m \u001b[32m21.1/21.1 MB\u001b[0m \u001b[31m91.1 MB/s\u001b[0m eta \u001b[36m0:00:00\u001b[0m\n",
            "\u001b[?25hBuilding wheels for collected packages: openai-whisper\n",
            "  Building wheel for openai-whisper (pyproject.toml) ... \u001b[?25l\u001b[?25hdone\n",
            "  Created wheel for openai-whisper: filename=openai_whisper-20240930-py3-none-any.whl size=803707 sha256=3c0488389a74c712e5adc445c6902df0fd23baf40c08e94eb2b563d25c8313b2\n",
            "  Stored in directory: /tmp/pip-ephem-wheel-cache-jf1v8hxi/wheels/1f/1d/98/9583695e6695a6ac0ad42d87511097dce5ba486647dbfecb0e\n",
            "Successfully built openai-whisper\n",
            "Installing collected packages: nvidia-nvjitlink-cu12, nvidia-curand-cu12, nvidia-cufft-cu12, nvidia-cuda-runtime-cu12, nvidia-cuda-nvrtc-cu12, nvidia-cuda-cupti-cu12, nvidia-cublas-cu12, tiktoken, nvidia-cusparse-cu12, nvidia-cudnn-cu12, nvidia-cusolver-cu12, openai-whisper\n",
            "  Attempting uninstall: nvidia-nvjitlink-cu12\n",
            "    Found existing installation: nvidia-nvjitlink-cu12 12.5.82\n",
            "    Uninstalling nvidia-nvjitlink-cu12-12.5.82:\n",
            "      Successfully uninstalled nvidia-nvjitlink-cu12-12.5.82\n",
            "  Attempting uninstall: nvidia-curand-cu12\n",
            "    Found existing installation: nvidia-curand-cu12 10.3.6.82\n",
            "    Uninstalling nvidia-curand-cu12-10.3.6.82:\n",
            "      Successfully uninstalled nvidia-curand-cu12-10.3.6.82\n",
            "  Attempting uninstall: nvidia-cufft-cu12\n",
            "    Found existing installation: nvidia-cufft-cu12 11.2.3.61\n",
            "    Uninstalling nvidia-cufft-cu12-11.2.3.61:\n",
            "      Successfully uninstalled nvidia-cufft-cu12-11.2.3.61\n",
            "  Attempting uninstall: nvidia-cuda-runtime-cu12\n",
            "    Found existing installation: nvidia-cuda-runtime-cu12 12.5.82\n",
            "    Uninstalling nvidia-cuda-runtime-cu12-12.5.82:\n",
            "      Successfully uninstalled nvidia-cuda-runtime-cu12-12.5.82\n",
            "  Attempting uninstall: nvidia-cuda-nvrtc-cu12\n",
            "    Found existing installation: nvidia-cuda-nvrtc-cu12 12.5.82\n",
            "    Uninstalling nvidia-cuda-nvrtc-cu12-12.5.82:\n",
            "      Successfully uninstalled nvidia-cuda-nvrtc-cu12-12.5.82\n",
            "  Attempting uninstall: nvidia-cuda-cupti-cu12\n",
            "    Found existing installation: nvidia-cuda-cupti-cu12 12.5.82\n",
            "    Uninstalling nvidia-cuda-cupti-cu12-12.5.82:\n",
            "      Successfully uninstalled nvidia-cuda-cupti-cu12-12.5.82\n",
            "  Attempting uninstall: nvidia-cublas-cu12\n",
            "    Found existing installation: nvidia-cublas-cu12 12.5.3.2\n",
            "    Uninstalling nvidia-cublas-cu12-12.5.3.2:\n",
            "      Successfully uninstalled nvidia-cublas-cu12-12.5.3.2\n",
            "  Attempting uninstall: nvidia-cusparse-cu12\n",
            "    Found existing installation: nvidia-cusparse-cu12 12.5.1.3\n",
            "    Uninstalling nvidia-cusparse-cu12-12.5.1.3:\n",
            "      Successfully uninstalled nvidia-cusparse-cu12-12.5.1.3\n",
            "  Attempting uninstall: nvidia-cudnn-cu12\n",
            "    Found existing installation: nvidia-cudnn-cu12 9.3.0.75\n",
            "    Uninstalling nvidia-cudnn-cu12-9.3.0.75:\n",
            "      Successfully uninstalled nvidia-cudnn-cu12-9.3.0.75\n",
            "  Attempting uninstall: nvidia-cusolver-cu12\n",
            "    Found existing installation: nvidia-cusolver-cu12 11.6.3.83\n",
            "    Uninstalling nvidia-cusolver-cu12-11.6.3.83:\n",
            "      Successfully uninstalled nvidia-cusolver-cu12-11.6.3.83\n",
            "Successfully installed nvidia-cublas-cu12-12.4.5.8 nvidia-cuda-cupti-cu12-12.4.127 nvidia-cuda-nvrtc-cu12-12.4.127 nvidia-cuda-runtime-cu12-12.4.127 nvidia-cudnn-cu12-9.1.0.70 nvidia-cufft-cu12-11.2.1.3 nvidia-curand-cu12-10.3.5.147 nvidia-cusolver-cu12-11.6.1.9 nvidia-cusparse-cu12-12.3.1.170 nvidia-nvjitlink-cu12-12.4.127 openai-whisper-20240930 tiktoken-0.9.0\n",
            "Collecting ffmpeg\n",
            "  Downloading ffmpeg-1.4.tar.gz (5.1 kB)\n",
            "  Preparing metadata (setup.py) ... \u001b[?25l\u001b[?25hdone\n",
            "Building wheels for collected packages: ffmpeg\n",
            "  Building wheel for ffmpeg (setup.py) ... \u001b[?25l\u001b[?25hdone\n",
            "  Created wheel for ffmpeg: filename=ffmpeg-1.4-py3-none-any.whl size=6082 sha256=e6be87b3f818bb7e9a39daa4c2e641ab61f59ddc54a817d382c55ac9f28773cd\n",
            "  Stored in directory: /root/.cache/pip/wheels/56/30/c5/576bdd729f3bc062d62a551be7fefd6ed2f761901568171e4e\n",
            "Successfully built ffmpeg\n",
            "Installing collected packages: ffmpeg\n",
            "Successfully installed ffmpeg-1.4\n",
            "Looking in indexes: https://download.pytorch.org/whl/cu118\n",
            "Requirement already satisfied: torch in /usr/local/lib/python3.11/dist-packages (2.6.0+cu124)\n",
            "Requirement already satisfied: torchvision in /usr/local/lib/python3.11/dist-packages (0.21.0+cu124)\n",
            "Requirement already satisfied: torchaudio in /usr/local/lib/python3.11/dist-packages (2.6.0+cu124)\n",
            "Requirement already satisfied: filelock in /usr/local/lib/python3.11/dist-packages (from torch) (3.18.0)\n",
            "Requirement already satisfied: typing-extensions>=4.10.0 in /usr/local/lib/python3.11/dist-packages (from torch) (4.12.2)\n",
            "Requirement already satisfied: networkx in /usr/local/lib/python3.11/dist-packages (from torch) (3.4.2)\n",
            "Requirement already satisfied: jinja2 in /usr/local/lib/python3.11/dist-packages (from torch) (3.1.6)\n",
            "Requirement already satisfied: fsspec in /usr/local/lib/python3.11/dist-packages (from torch) (2025.3.0)\n",
            "Requirement already satisfied: nvidia-cuda-nvrtc-cu12==12.4.127 in /usr/local/lib/python3.11/dist-packages (from torch) (12.4.127)\n",
            "Requirement already satisfied: nvidia-cuda-runtime-cu12==12.4.127 in /usr/local/lib/python3.11/dist-packages (from torch) (12.4.127)\n",
            "Requirement already satisfied: nvidia-cuda-cupti-cu12==12.4.127 in /usr/local/lib/python3.11/dist-packages (from torch) (12.4.127)\n",
            "Requirement already satisfied: nvidia-cudnn-cu12==9.1.0.70 in /usr/local/lib/python3.11/dist-packages (from torch) (9.1.0.70)\n",
            "Requirement already satisfied: nvidia-cublas-cu12==12.4.5.8 in /usr/local/lib/python3.11/dist-packages (from torch) (12.4.5.8)\n",
            "Requirement already satisfied: nvidia-cufft-cu12==11.2.1.3 in /usr/local/lib/python3.11/dist-packages (from torch) (11.2.1.3)\n",
            "Requirement already satisfied: nvidia-curand-cu12==10.3.5.147 in /usr/local/lib/python3.11/dist-packages (from torch) (10.3.5.147)\n",
            "Requirement already satisfied: nvidia-cusolver-cu12==11.6.1.9 in /usr/local/lib/python3.11/dist-packages (from torch) (11.6.1.9)\n",
            "Requirement already satisfied: nvidia-cusparse-cu12==12.3.1.170 in /usr/local/lib/python3.11/dist-packages (from torch) (12.3.1.170)\n",
            "Requirement already satisfied: nvidia-cusparselt-cu12==0.6.2 in /usr/local/lib/python3.11/dist-packages (from torch) (0.6.2)\n",
            "Requirement already satisfied: nvidia-nccl-cu12==2.21.5 in /usr/local/lib/python3.11/dist-packages (from torch) (2.21.5)\n",
            "Requirement already satisfied: nvidia-nvtx-cu12==12.4.127 in /usr/local/lib/python3.11/dist-packages (from torch) (12.4.127)\n",
            "Requirement already satisfied: nvidia-nvjitlink-cu12==12.4.127 in /usr/local/lib/python3.11/dist-packages (from torch) (12.4.127)\n",
            "Requirement already satisfied: triton==3.2.0 in /usr/local/lib/python3.11/dist-packages (from torch) (3.2.0)\n",
            "Requirement already satisfied: sympy==1.13.1 in /usr/local/lib/python3.11/dist-packages (from torch) (1.13.1)\n",
            "Requirement already satisfied: mpmath<1.4,>=1.1.0 in /usr/local/lib/python3.11/dist-packages (from sympy==1.13.1->torch) (1.3.0)\n",
            "Requirement already satisfied: numpy in /usr/local/lib/python3.11/dist-packages (from torchvision) (2.0.2)\n",
            "Requirement already satisfied: pillow!=8.3.*,>=5.3.0 in /usr/local/lib/python3.11/dist-packages (from torchvision) (11.1.0)\n",
            "Requirement already satisfied: MarkupSafe>=2.0 in /usr/local/lib/python3.11/dist-packages (from jinja2->torch) (3.0.2)\n"
          ]
        }
      ],
      "source": [
        "!pip install git+https://github.com/openai/whisper.git\n",
        "!pip install ffmpeg\n",
        "!pip install torch torchvision torchaudio --index-url https://download.pytorch.org/whl/cu118\n"
      ]
    },
    {
      "cell_type": "code",
      "source": [
        "import whisper\n",
        "\n",
        "model = whisper.load_model(\"large\")  # Best for long audio & non-English languages\n",
        "result = model.transcribe(\"Jan Zoom Meeting_24_03_2025.mp3\", language=\"de\")  # \"de\" = German\n",
        "print(result[\"text\"])\n"
      ],
      "metadata": {
        "colab": {
          "base_uri": "https://localhost:8080/"
        },
        "id": "0ojVwqnS_k2I",
        "outputId": "b3c815b2-8ef5-45ec-8693-a39426885677"
      },
      "execution_count": 2,
      "outputs": [
        {
          "output_type": "stream",
          "name": "stderr",
          "text": [
            "100%|█████████████████████████████████████| 2.88G/2.88G [01:56<00:00, 26.5MiB/s]\n"
          ]
        },
        {
          "output_type": "stream",
          "name": "stdout",
          "text": [
            " Amen. Amen. Hallo. So, sag nochmal was. Ich verstehe dich nicht. Nö. Mein Mikro scheint ja zu funktionieren. Nasir, hörst du mich? Ja. Sag mal was, Nasir. Ja, okay. Audio ist okay. Kannst du mich auch... Du verstehst mich nicht, verstehe ich. Okay, dann muss nur noch Nico sein Mikro hinbekommen. Ja. Du wirst doch nie grün. Das ist schön. Ich habe dich auch gehört, aber nie übers Mikro. Your Drive through life, just don't get rid of the past... Yep. Russian music. Yes. Das war viel Situation, und hat auch immer falsch besprochen. Das spielte noch lange... Du umllyst liegender in die Welt. Ich habe, Ich art mir Ich bin nurturerungeféré Jimmy Julian. Wer ist das? Ja. Du heat Chang John Duck? Du kindest uns nicht aber, aber wenn ihr ambientiert seid, dann seid ihr nicht dem対ragiter... Leit Bradyserie... Direkt names you gerne wissen... Test, Test, Test. Ja, ja. So, geht? Sehr gut. Der Matthias bittet noch kurz um Zeit. Ich mach mal einen Schluck Wasser. Das ist eine gute Idee. Hallo, hallo. Hallo, hallo. Hallo. das dauert. Ja, das war alles ja niederländisch gekretscht. Ja, genau. Ich denke, wir werden noch nicht die Vollzeit brauchen. Ich hatte reingeschrieben, man muss nochmal drüber schauen und das G-Projekt und ich würde jetzt einfach mit dem G-Projekt starten. Also, monitor teilen. Trotzdem hat dieses Modell, was war es 1851, das war mal ähnlich, wie es im Release trainiert wurde. Ist auch nicht schlecht. 1851. Ist 1851 gewesen, kann das sein? Was war es denn gewesen? 1623? 1623 kann es sein, ja. Das ist jetzt freigegeben. 1623 hat er. Ja, 1623 hat er. Ja, 1623 hat er. Das ist auch nicht schlimm, wenn das mal nicht freigegeben war, weil der hat immer die erste Variante gezogen. 1851 waren die drin gewesen. Das ist ein Feedback auch mal, was Jeep betrifft. Genau. Also, beim Jeep habe ich ein bisschen was gemacht. Und zwar, Jeep zeichnet sich aus, dass es ein Hersteller ist, der übergreifend über viele, sage ich mal, Konzerne geht. Also, Jeep hat irgendwann mal zu Chrysler gehört, dann zu Daimler, Chrysler, dann irgendwie zu Fiat. Und das merkt man auch in den Bedatungen oder in den steuergeräten Architekturen. Ich habe jetzt hier ein Jeep-Paket oder Re-Engineering-Paket erstellt für die Bremse, wo verschiedene Basisvarianten vorbereitet sind und habe das dann jetzt für die Modellnummer 3, die wir jetzt haben, erstellt. Und habe das dann jetzt für die Modellnummer 3 erstellt. Und habe das dann jetzt für die Modellnummer 3 erstellt. Und habe das dann jetzt für die Modellnummer 3 erstellt. Das ist die 3171 und 1699 gesegnet gegen eine Simulation. Damit kann jetzt die 1699 Niko auch freigegeben werden. Wäre vielleicht gut, wenn wir vielleicht noch mal ein Fahrzeug ran holen könnten. Würde ich so sagen. Und da gibt es ja auch noch das Vorgängemodell, die 371. Ja, genau, das ist hier auch mit drin. Okay. Und für diese Modelle habe ich auch hier wieder analog... Ähm... Hier auch wieder Simulationen gebaut. Matthias, das können wir dann gerne auch noch wieder in den Simulationsdatenordner kippen. Oder das kann auch der Nasir machen, völlig egal. Ich habe dann für die Modelle Simulationen erstellt und habe das gegen die Simulation getestet. Gegen die B-Validierung konnte ich leider keinen Bremsdruck simulieren, weil wir da keine Mitschnitte mit Bremsdruck hatten. Das war eine Herausforderung, aber ich glaube die B- und C-Validierung waren beides Hybriden oder Benziner. Also eins von beiden. Die B-Validierung ist sozusagen mit der C-Validierung unterschlagen. Dazu ist noch die 1678 auch noch mit enthalten. Das hat auch mit geklappt. Die ganze Sache liegt aber, das ist ein bisschen tricky, in diesem Daimler Projekt. Das ist geschuldet der Tatsache, dass wir angefangen haben mit der 785, also halt so ein Daimler Kreisler Bedatung. Das musste ja da irgendwo in den Konverter reinpassen und dann hat man dann die B-Validierung mit der C-Validierung und dann hat man dann die C-Validierung mit der C-Validierung und dann hat man dann die C-Validierung mit der C-Validierung und damit ist das halt ursprünglich mal zu Daimler gewandert. Darauf sind halt sozusagen auch die ganzen Protokollnamen darauf abgestimmt. Okay, gut. Ansonsten die Autoren-Stinie hat da keine Probleme damit gehabt offensichtlich. Die Autoren-Stinie wird ja dann von Daimler genommen wahrscheinlich halt und deswegen hast du nur immer dann die Protokolle, ansonsten der Rest hast du dann scheinbar halt. Genau, also die Protokollnamen sind halt an das Daimler Projekt angepasst. Damit das dann da drin läuft und bei die 784, 785 das sind ja so die Mercedes B-Klassen, A-Klassen, Steuergeräte oder die IDs davon. Von daher das passt doch so alles so vom Aufbau halt mit der Abfrage der Diagnosekennung und so weiter. Hier Tavis Lieferantenkennung. Das ist ziemlich alles Daimler. Ja genau. Habt ihr dazu Fragen? Okay, dann würde ich dann mit Nasir das die ganze Sachen noch in den Simulationsordner dann schmeißen, dass er das dann irgendwann mal wieder findet, wenn er es benötigt und gebe euch jetzt noch einen Überblick zum aktuellen Mantis-Stand. Das ist jetzt meine Mantis-Übersicht der Fehlerklasse3o wo ich Bearbeiter bin. Wie ihr seht er ist jetzt mit sieben Fahrzeugen relativ überschaubar. Liegt auch daran, dass ich jetzt nicht alles abgearbeitet habe. Ich bin noch nicht Ding durch. Also werde ihn noch irgendjemandem zuteilen oder gegebenenfalls schließen, weil hier sehe ich auch schon ist ein Jeep dahinter. Mhm. Das kann sein, dass das auch schon geschlossen werden kann. Das prüfe ich noch und würde es dann zuweisen, dass die halt nicht ins Leere greifen dann. Was ist das für ein Schroder-Ticket? Was ist das für ein Modell für ein Schroder? Kann ich dir genau sagen. Ein Super B? Modell nur für 8-0, das sind scheinbar alle Gurken. 549. Hast du schon gesehen? 549, ja. Wie war die Nummer? 5? 9-4. 9-4 ist es. Das sind unbekannte Steuergerät-Varianten. Die UZ-Freiheit in der Fürth-Degau. Das ist, haben wir sogar eine Datenlieferung dafür, das SK-47-Projekt. Also wenn es ein Problem gibt, könnte es das noch theoretisch in Markus-Schwarz-Würde geben. Aber stets. Ich denke mal, da die ja schon auf Herstellerlieferung umgestellt ist. Das ist RE, ist das noch? In dem RE-Bereich noch. Oder der hat zumindest Daten, wo man nachgucken könnte. Das ist das SK, Siehst du, SBA hier, SK-46-Projekt. Ich wüsste nicht, was der Grund war. Unbekannte Variante oder so. Ja, ist unbekannte Variante. 3T. Äh. Ich denke hier. 106 DOWN BIRD ESSEL FRIEDNEST LAINT da schwebt einfach. Ja, ich weiß, ich weiß, dass ich dasff tear aber wirklich auslesen kann. Aber process MC. Ja, habe ich. Ja, natürlich. Also Markus zuweisen oder? Die Frage ist, ich guck grad nochmal, was die da gemacht haben. Da war ja keine blöde Teilnummer aus. Das ist natürlich wahrscheinlich wirklich kein echtes Varianten-Daterium. Tatsächlich würde ich erstmal gucken, wie über die TPEs, ob wir da schon was dazu haben. Ob das jetzt, das ist ja auch schon alt, die Gewässerheitsbildung, ich mach mal ein Auto, schau mal die Zugrenze von oben. Ja, das ist nicht so neu, das ist 23. Also das Dashboard wird da bestimmt auch noch Kennungen ausspucken. Hm. Ja. 1, 2, 3. Hab ich sogar schon mal gemacht, hier guck. 10, 23. Weil wenn wir auf die Teilnummer gehen, ist natürlich ein Denkwort dämlicher Variante. Ja. Die Teilnummer ist garantiert kein wirkliches Varianten-Dateium halt. Na gut, haben wir damals so gemacht. Ja, ja, ich weiß schon. Verwegt. Ich kann es noch mal nachschauen. Oder. Es sind aber nur zwei, die fehlen. Das könntest du dir schon, Markus, fortwählen. Das hört sich dann mal, wenn du das Projekt umbaut, quasi anhand der Datenlieferung, für die Bremse zumindest bloß. Oder ob wir einfach die Kennung ergänzen. Ja, das ist gut. Dann ist das per Simulation dann immer durchlaufen. Das sind nur die zwei hier. Hm. Ja. Das gibt es morgens mitgeben halt noch. Ja, ja. Das machen wir sofort. Hm. Ach, da hatten die vorhin gedacht, das ist ja. Hm. Ach, sag mal, überlegst du das nicht im Lüft? Vielleicht. Vielleicht. Vielleicht. Vielleicht. Vielleicht. Vielleicht. Vielleicht. Vielleicht. Vielleicht. Vielleicht. Vielleicht. Vielleicht. Vielleicht. Vielleicht. Vielleicht. Vielleicht. Vielleicht. Vielleicht. Vielleicht. Vielleicht. Ja, photography machen. Was soll da mal arbeit Bruschen machen? Was soll da malmoi? Wie bist du bei reads am Telephone? Ja, also würde ich schon erst 1 2 3 4 være? Wang commen ca, wenn es da ein Act-iander sucht. Aber ich hab 0 content Hey, hey! Interesse hast du das so manchmal oder eigentlich maltest du schon einmal ein T nervo eins? Lang SAR- wynge hab ich da das JoFS was was! Ich schaver noch mal Erdостьunfacheام uh KennoROKI TOGET ik rdaut ne TTS вечgas Ich weißular步 Nein, es gibt nur eine VWP Bremse. Und dazu gibt es typischerweise eine Base Variante. Und da ist Diesel ja, da ist nichts sinnvolles drin. Außer im Stopp kommt ja nichts da drin. Also muss man eine Simulation machen, Daten geben nicht her dafür. Dann bleibt es immer Projekt SK7, 46 ist leer, KWP das ist wahnsinnig in der Lage das zu integrieren. Gut dann. Dann schwarz. Gut. Übergeben. So. Ja die anderen würde ich noch zugucken und dann den entsprechenden Teams. Renault AIS. Das wollen die gar nicht machen. Das wird schwer. Das wird schwer. Das wird schwer. Das kommt zurück 7F oder? Ja. Und noch fertig schließen. Angeblich gibt es das Ford dort nur mit ESP. Ich glaub sowas gar nicht. Ja Laguna, ja doch schon. Von 2.1. Modell 5.6, da wurde von 2.1 bis 2.7 gebaut. Ja. Das heißt wir tun ja nur ein Jahr betiteln ab 2.6. Nico haben wir da eine Modellgrenze eingebaut? Ja ich gucke. Welches Modell Nummer war es? 65. 0, 0, 0. So. Wir haben unterschieden zwischen Diesel, NC und... Ne wir haben eine FIN Regel eingebaut. Ne wir tun die nicht auf Jahreszahl. Ne. Wie das aussieht. Macht ihr das immer so oder? So wie das jetzt hier ist. Das ist ja steinalt. Immer ist so hart. Ne ich sag mal so bei der, bei der im Bauzeitraum von 2001 bis 2007. Da haben wir doch bestimmt, wenn ich mir schnell auf Ypsilanti umgucke, wie es da aussieht, was wir davon gesehen haben. Ja. Ja. Ja. Ja. Ja. Ja. Ja. Ja. Ja. Ja. Ja. Ja. Ja. Ja. Ja. Ja. Ja. Ja. Ja. Ja. Ja. Nummer 65, wo ist die 65? Da hat man doch noch nen neuen Teil gesehen. Ja. Wir haben nicht mehr ne Excel dabei? Das haben wir noch word Dateien als DNA Cyber cript. So wir haben ne Excel damals drin mit, erste Platz im 2006, und einmal erste letzte 2009. Das haben wir drinnen und die wird DNA cosmic. Ähm. 2005, also haben wir die alten nie gesehen wahrscheinlich halt. Wahrscheinlich nicht. Moment, das sind jetzt die 2004er gewesen vom Feedback. Naja, das sag ich auch, wir haben die gar nicht gesehen, also die hättest du wirklich gesehen, dann wären die 2006er gewesen. Würde ich mal behaupten, Diagnose Mitschnitte, die es da gibt, die sind von der Devalidierung, also auch nur 2006. Ich würde ja erst sagen, zieh dir die EZ-Grenze ein. Das kriegst du da gar nicht in den Griff von ihm, zwischenweise. Also, die Diagnose haben wir nur die Devalidierung mit angeschaut und das war eine 2006er Zulassung. Ja, wir hatten die noch schon vorher da. Ja. Also wir hatten die für die Bremse bestimmt öfter da. Nico, schau es mal. Ich hab geschaut, wir haben nur zwei Validierungen aufgenommen. Ja. Das ist einmal die C-Validierung und einmal eine, keine Ahnung, die nicht zuordnbar ist. Ich guck mal rein. Was ist das Erstzulassungsdatum, Nico? Ich öffne. Also die eine ist Erstzulassung vom 24.07.2006, das ist die C-Validierung. Ja. Und die andere ist 11.04.2006. Mehr hat man nicht. Also beide von 2006. Deswegen, also, ich kann mal schick gucken, was das Ding hier für einen Bestand hat hier. Bestimmt nicht wenig, oder? Der Kuna war da. Außerdem ist das kein Argument für den Karsten. Das ist richtig. Aber, aber, aber, ich hab damit echt nichts. Ja. Ich hab damit echt ein Problem, wenn man jetzt so weit in die Vergangenheit geht, zu Fahrzeugen, die man nie gesehen hat. Hm. Äh. Da siehst du, was rauskommt. Hm. Also mich brauchst du nicht überzeugen, mir geht's bloß darum, wie kriegen wir das ... Also Bestand, Bestand sind's noch, hohe Bestand sind noch 8000 Fahrzeuge. Na los, Feuer frei. Also witzigerweise, beim Nutzerzeug, Nutzerzeug App hat genauso viele Fahrzeuge mit 8000, wie der Bestand der Uhr mit 7900. Ich würd tatsächlich sagen, wer weiß, was die alten Gugners da drin hatten. Also zieh ich dort eine Grenze rein ab 2.6, oder? Nicht vertrauen ab 2.6, ne. Okay. Dann weiß ich dieses Ticket zu ... Das passt sowohl mit der Validierung, als auch mit der Vorgabenpflicht. Und krieg ich, krieg ich das erklärt, dass wir da vor hoffentlich prüfbar sitzen? Weil rankriegen wir immer so eine Karre nie wieder. Eben, deswegen ja. Deswegen. Deswegen krieg ich's dann wieder ran. Wir haben keine Daten vom Hersteller, wir haben keine Validierung quasi, haben's mutig ausgerollt aufs gesamte Feld, es hat gezeigt, das funktioniert nie. Und wenn schon wieder Feedback-Ticket kam aus dem Jahr 2004, würd ich tatsächlich sagen, lass uns auf die letzten beiden Modelljahre 2.6 und 2.7 beschränken. Ja. Andere tritt man nie raus, wie sich der Bestand verteilt hier über die Jahre. Ja. Ja. Ja. Ja. Ja. Jedenfalls auch mal Hitler im Angriff. Ja, ja. Nein, drinkanker. Doch,��rick erneut. Recht gut. Ja. Gut. Dann kriegen wir maximal ein Feedback rein. Geht nicht mehr. Geht nicht mehr gegen das letzte Mal. Aber die Wahrscheinlichkeit ist immer uns einig. Ich wollte es bloß nochmal angesprochen haben. Das sind die üblichen Fragen, die dann kommen. Dann haben wir hier einen Ford Puma. Das wird relativ neu sein. Von technisch her nicht möglich. Zündungswechsel und An- und Abstecken des HU-Donkels haben keine Veränderungen gebracht. Was auch immer ein HU-Donkel ist. ESP verbaut, gut. Das wird Team Ford sein, oder? Ja. Vermute ich, dass es sich einen üblichen Ford Puma einreiht. Dass sie wahrscheinlich den Bremsenjob in die B-Serie anpacken sollten. Dass die Pimpen nicht voll in den Begang gezogen wurden oder so. Das haben wir bei anderen Fords auch gehabt zuletzt. Habe ich so in Erinnerung, oder? Ja. Ja. Das ist der alte Ford Puma. Achtung, muss niesen. Nein, das muss ich nicht. Ich wollte noch überlegen, ob er noch einen Satz dazu schreibt. Vielleicht beim nächsten. Ich habe hier noch einen Ford. Transit. Modellnummer, Modellnummer, Modellnummer. Hier, 256. Das ist der alte Ford Puma. Ja. Ja. Der alte Ford. Da gibt es mit Tor. Der hat jetzt fluffig immer Probleme gemacht. Der läuft da so straßen und riecht sauer. Mit 80.000 Fahrzeugen. Ja. Handwerkerkiste halt. Von 1946 bis 2014 gebaut. Hm. Gibt es ja. Expected Variant. Der geht in eine EV ABS. Hat hier einen Sessionwechsel. Der hat auch eine EV ABS, aber die hat ein bisschen mehr. Ja. Ja. Ich habe auch noch einen EV ABS. Ich habe auch noch einen EV ABS. Ja. Ja. Ja. Ja. Ja. Ja. Ja. Ja. Ja. Ja. Ja. Ja. Ah, ne. So. Auch keine General stems. Aber jeder neues allemaal wieder. Ja. So, du hast Kopf bei letzten kurzem. Du bist hier. Aber gut. So, Tiago. So, das war mein Had verbal. Ich wollte die presents hier benutzen, die, die nochえるpa май. Ich würde gerne die Hüpfelgrundverteilung ziehen. Was die so sagt, die fängt an mit der 222B0D. Ja gut, es gibt die EVA-Base-Ping-Variante. In der Base-Variante sehe ich bloß, es gibt hier SJ-Hydraulik-Pressurit. In zwei Geschmacksrichtungen. Hier gibt es ein 2-Meter-Drehen. Nach einer verschiedenen Baitposition wird da gelesen, mit verschiedenen Formeln, eben als Hex zurückgeben, eben als Fall. So nennen wir es wahrscheinlich die Ping-Variante. Achso, du machst die Variantenerkennung anhand des Bremsdruck-Lese-Jobs und guckst, ob da was zurückkommt. Also ob die PID wiederholt wird. Ja, weil es hier auch jetzt BEVs gibt, eine ABS und eine ESP1. Das ist ein bisschen tricky jetzt quasi hier bei der Bedatung. Du hast ja die SGBD, ne? Ne, da muss ich mal hin. Du hast ja die SGBD-Pressurit. Und dort schickst du ja quasi eine 22.2B0D rein und guckst dann, was zurückkommt für eine Parameter-ID. Und immer vergleichst du es gegen die 2B0D und beim anderen Mal vergleichst du es gegen die 22.12. Wie sollte denn das funktionieren? Da kann doch nie eine 22.12 zurückkommen, oder? Da schließt sich mir gerade nicht. Wie das gehen soll. Wenn du eine 2B0D reinschickst, warum sollte denn dort eine 22.12 zurückkommen oder eine 22.11? Dass es ABS schließen lässt. Mit der gleichen Response. Das verstehe ich noch quasi oben, ne? Dann nimmst du den ersten Service-SGBs-Variant oben, schickst die 22.2B0D rein und guckst dann hier noch einfach mit dem Response-Parcher, ne? Ja. Und dann schickst du die 2B0D rein und guckst dann hier noch einfach mit dem Response-Parcher, ne? Ja. Mit dem Response-Parcher, RPV-ID, ob die 2B0D zurückkommt. Dann nimmst du den gleichen Service-SGBd aber nochmal bei der ABS-Variante. Das ist ja der gleiche SGBD, gleicher Response-Parcher. Dann guckst du plötzlich, ob eine 22.12 zurückkommt. Ist das so, dass ABS-Fahrzeuge auf eine gestellte Parameter-ID, die einen anderen Parameter zurückliefern? Nein. Dann handelt ihr dann nochmal am Button welche others Candidate nímlich hervor tribeb, wieder und dann also dieirs Telefonnummer padre. Sieht nur irgendwie ein bisschen verguckhoch, das alles ... Also werden Sie lieb und araber auch gerne ein pron الذpus und表示 unter hamburg. Ohne turnspranny, werden wir sehen. Aber auch hinter Asenblickung gibt es noch Phadw roz жirъat ind Mit diesem neuen Transfer zum折 brauchen Sie sich für das folgenden Gremium, das man verabschiedeten Anrufen kann. Tyria. Das wird dann noch verrückter in der nächsten Variante. Die Ping Variante, das ist nur... Die Ping Variante wird noch verrückter, da brauchst du ja Funktional an. Und in der SGBT, die da referenziert ist, der Dockref auf die 6B37 am Ende. Da hast du ja ein ganzes Bündel an SGBTs, die da referenziert werden. Das verstehe ich, aber das geht grad in meinen Kopf nicht rein, was da passiert. 36... Das hast du jetzt nicht aufgenommen? Nein, das ist nicht wie ich meinte. Ich habe die PVD aufgemacht, weil ich dachte, dass die PVD was macht. Aber hier ist nur ein Fin auslesen drin und den Standort sessionen. Aber die nächste Variante, diese Ping Variante hier, diese... Ping Variante. Genau die ruft ja quasi den Dockref auf, diese SGBT mit dem Ende 6B37. 6B37? Ja. Und dann wird es... Da steige ich gerade geistig aus, was da passiert. Da wüsste ich gar nicht, warum das gezogen wird. Das ist ja eine andere SGBT. Dann muss man reingucken, weil das Ding... Will ich das? Soll ich es doch tun? Ja, mach ich. Was ist das für eine Änderung? 6B37. 6B37. Genau. Hä? Genau, das dachte ich mir auch. Ja. Naja. Habe ich gerade... Gar keine Idee, was das sein soll. Das sieht fast aus wie eine... Von Weitem schon fast wie eine... Eine Bildinfo. Ja, wenn das Funktional ist, dann fragt er alle die Steuergeräte, wo er eine Antwort erwartet. Hm. Keine Ahnung. Genau, Funktional. Genau, in dem Perlendreher hast du jetzt auch bloß eine PPD drin stehen, die eine C01 drin hat, die da ist. Die da kommt zum Durchklingeln wahrscheinlich. Oh, ich würde die Einzel-SGBT gucken. Die soll mit drin hängen? Die soll mit drin hängen? Weil ich weiß gar nicht, ob die in den Paketen drin liegen? Ne, guck mal, bei der 37 nehmt ihr nur diese Referenz, die 21... Achso, okay, gut. 21C. 421... Die ist aber gar nicht aufgeführt in der Datei. Rüfe? Doch, gleich als erstes. Aber mit einer anderen Doc-Rev, das musst du wissen. Achso, das muss ich nicht wissen. Und da ist es dann unsere Bremsen-Datei wieder, die 61. Der referiert es. Äh... Okay. Ich finde es trotzdem ein bisschen spooky, was da passiert. Ja. Weil letztlich hast du eine SGBT durch Aufruf, die hat SGBT-Referenzen. Und die werden ja, wenn die aufgerufen werden, schon in sich ausgeführt, wenn die da ja schon quasi so aus dem Varianten-Pattern heraus SJ-Aufrufe drin haben halt. Der wird ja theoretisch alle SGBTs durchklingeln, vermute ich mal. Ja, das ist glaube ich geschuldet, dass die ersten Fortlieferungen irgendwie so... Diese funktionale Adressierung geliefert haben. Und umgesetzt wurden damals vom Mood. Und wir dann das halt irgendwie verbogen haben für die Kiste. Deswegen liegt das hier im Ping-Job. So, und das ist ABS. Gut, warum das jetzt bei der Variante ABS? Mit der 2212 hier ist als Ergebnis. Das kann ich dir jetzt nicht sagen. Das sieht schon mal komisch aus. Das müsste an sich aus dem ODX herauskommen irgendwo. Ja. Das könnte ich mir nur erfüllen, dass das ein ODX-Problem ist halt. Weil sein kann es eigentlich nicht. Das wird ja nie gezogen, weil an der anderen kommt ja nie zurück vom Steuergerät. Weil du die Frage ja gar nicht stellst. Hm. Und mit der Funktion Adressierung? Ja, da wirst du dann nur diese Ping-Variante freischalten. Das war damals noch so eine Krücke, weil wir die vor Unbekannt nicht hatten. Hm. Die ist ja später dazu gekommen. Da ist das quasi diese Pseudo-Ping-Variante. Oder Pseudo-Unbekannt. Ich schaff's das noch mal, dich mit dem Thema noch mal zu beschäftigen? Ich kann's probieren, aber... Das ist ja die Herausforderung, dass das ja eine Herstelllieferung ist. Angelehnter Bedrohung ist. Also ich kann's mir morgen noch mal angucken. Zumindest ist dieser Fall EV-ABS, also das ist ja... Na warte mal, ich mach's mal auf. Ich sag's dir, wenn die gezogen wird, dann wird ja eine Meldung kommen vom Fahrzeug nicht unterstützt. Dann wäre ja alles schick, oder? Wenn dort eine Variante mit VOPS oder ABS im Namen gezogen wird, dann kommt da die Meldung hier und wird vom Fahrzeug nicht unterstützt. Richtig. Ja. Genau, wenn's unbekannt ist. Und das Feedback hatte ich ja nur beschwert, dass da nichts geht am Fahrzeug. Hm. Ja, weil er wahrscheinlich in irgendeine Variante reingerannt ist. Ich weiß jetzt nicht, wie das hier im OTX verknüpft ist. Ich vermute ja mal, dass das irgendwie im OTX-Pferd ist, quasi halt. Also dass dort das Pattern irgendwie falsch angezogen ist. So, warte mal. Ich muss es mal aufschreiben. Also die Kalkulation kommt ja aus dem Pattern vom OTX. BBKB, also CK ohne Bau, achso, OTX. Ich vermute mal, dass jetzt also die Varianten, was im OTX steht, das sind ja nur die Kalkulationen für die Sequenzen, sozusagen halt, ne? Warte mal, ich mach's mal auf. Und das ist ja Varianten-Pattern, das kommt ja aus dem OTX. OTX, ich mach's auf. Ist doch diese Matching mit der Funktionalabfrage, kann ja funktionieren. Also keine Ahnung, das ist niedrig durchsichtig, war es auch noch nie gewesen. Ja, das war ja, sag ich mal, die Herausforderung. Wir haben hier eine Datenlieferung, die sieht halt so aus. CCK. Und die wurde dann halt genommen und wurde in OTX gebaut. So, jetzt haben wir hier die EV-ABS. So. So, die hat sogar einen Hydraulik-Pressure-Reed, der dürfte aber ja eigentlich nicht dazu. Steht nur 22. Das ist ja durchgeerbt, quasi halt. Und dann machen wir das, auf die Variante umgehen, was da im Pattern drin steht. Also direkt auf das ABS gehen. Das ist ja nur die EV-ABS-Variante. Die hat das Pattern 212 und 211 drin auf dem Diagnosticservice hier, Hydraulik-Pressure-Reed. Und das ist ja der, dieser Service hat die 22B0. Zitt. 22B0. 22B0D, wie er es hieß. 22B0D. Und dort guckst du ja, wenn wir uns diesen Service mal angucken, dort kann der nie mit 22, 12 und 11 zurückkommen. Nee, eigentlich nicht. Go to. Die Frage ist nur, wenn du das korrigieren würdest, wird es da wiederum automatisch in der EV-1-ESP landen? Hier, 2 Byte Identical Byte Field. Ich komme zu dem Punkt, dass eben diese Variante EV-1-ESP und die Variante EV-ABS, dass die beiden den gleichen Source und den gleichen Response-Parameter nehmen. Nämlich auch PVID. Ja. Nein, ich müsste ja hier. Ja, ich habe das hier. Ja, ich habe das hier. Ja, ich habe das hier. Ja, ich habe das hier. Ja, ich habe das hier. Aber ich möchte ja hier, egal was, die wird ja nie gezogen. Weil wenn du beim ABS-Fahrzeug den Bremsdruck reinschickt, wird der mit 7F beantwortet werden. Also kommt 7F, 22 und 12 zurück? Dann ist das wahrscheinlich die 7F-Antwort. Du nimmst die 7F, und sagst auf den Service 22 und dann kommt es 12 und 11. Ach so, okay. Dann macht das Sinn. Genau. Dann ist das ja die negative Antwort. Genau, dann ist das die Antwort, weil das ist ja die erste und die zweite Stelle. Tut er wohl, aber wenn er dann 7F kriegt, überhaupt noch die Parameter zurückliefern mit? Ach, du hast es ja als Hex angegeben. Du kriegst ja die Antwort als Hex zurückgegeben komplett. Dann sollte das an sich funktionieren. Aber ich dachte der Hauadapter macht aus einer 7F immer eine 4711,08. Ja, das ist mir auch heute nicht klar. Aber das ist ja die einzige Möglichkeit zu sagen, wenn die Druckanfrage, die du testweise reinschickst, der negativ beantwortet wird, dann muss es sich um ABS handeln. Das ist ja der Hintergrund vom ganzen halt. Mhm. Aber das scheint mir tatsächlich dann doch nicht zu funktionieren irgendwie. Glaube ich auch nicht. Das kann ja nicht funktionieren. Also... Wird das geliefert bekommen? Oh je. Na gut. Also ich habe jetzt natürlich nicht genau im Feedback-Log jetzt gesehen, was dort das Problem ist. Ja, das ist ja die Frage. Ja, das ist ja die Frage. Ja, das ist ja die Frage. Also das Problem ist jetzt halt... Das sieht man noch nicht wirklich. Ja, das ist ja die SGBD hier. Ja, das ist ja die SGBD hier. Das ist ja die SGBD hier. Das Log-File ist eben daneben. Ja, da geht es ja noch weiter. Wir haben ja hier erst einmal eine Prediction. Expected Variant vom letzten Mal. Genau. Wie wird dort herausgefunden? Und hat er damit auch Erfolg? Also findet er die EV-ABS. Das ist die funktionale Geschichte. Genau. Aber das ist nur die Ping. Ist in der Ping ein Bremsdruckjob drin? Nein. Nein. Nein. Nein. Nein. Nein. Nein. Nein. Nein. Nein. Nein. Dann hat ja erst einmal alles noch plant funktioniert an dieser Stelle. Dann hat an dieser Stelle erst einmal alles laden sich funktioniert. Der beschwert sich ja bloß, dass er keinen Bremsdruck auslesen kann. Ja, richtig. Weil, er hat keinen Bremsdruck gedartet. Hat mal halt ein Auslesen müssen, sollen, können. Ist jetzt die Frage. Hat man halt ein Auslesen hätten müssen. Wahrscheinlich nie, wenn es ein EV-ABS-Fahrzeug wäre. Ja. Ja. Ja. Ja. Ja. Danke. Ich weiß, dass das nicht so war. Ja, nicht ganz, aber. Wie gesagt, das ist ja eine Funktionale, wieder eine Kreisformel, Kreisbezug, haben Sie ja schon vor uns gehabt. Da liegt ja nichts drin. Das würde nicht gehen, also es läuft an sich noch planen. Also ich weiß nicht, ob das notwendig ist, hier auf diese Datenlieferungen überhaupt zurückzugreifen. Also das Ding ist ja aufgrund dieses Nutze bitte das C-Car Projekt wahnsinnig kompliziert für eigentlich, guck ab der Bremsdruck geht. Wenn Bremsdruck geht, dann ist es Variante 1 ESP. Wenn Bremsdruck nicht geht, aber irgendwas anderes, ist es ein ABS. Und wenn nicht, ist es V-unbekannt. Man könnte es auch im Prinzip sich an der Stelle vereinfachen wahrscheinlich halt. Ich weiß nicht, ob die Funktionale einfach Sinn hat. Ja. Weil das halt geliefert wurde von Ford damals. Das ist ja hier zwar viel drin rumgeschrieben worden, das ist das Falsche, aber das ist doch im Prinzip geliefert worden. Mhm. In der UTA gibt es da keine, keine UDZ, keine LTE. Also es ist das Ähnliche, was geht an der Corvus, wo ich die Bremse halt. So, was haben wir denn als Datengrundlage? Kann man sich ja so einfacher machen. Ja, kann man sich ja so einfacher machen. Wäre nicht viel. Eine C-Validierung, eine D-Validierung. Und ein Bremsdruck auf Späten. Ach. So. Also wahrscheinlich zwei ESP-Fahrzeuge. Genau. Mit einem Ford Standardjob. Genau. Du liest aber auch nicht, wie sich das ABS-Fahrzeug verhält. Ne, das habe ich genau gesehen. Gibt es da noch eine andere Frage? Nein. Nein. Nein. Nein. Bunu. Nichts. Gibt es da keine Notizen, wie wir irgendwas schließen lassen? Das war damals hier die Zeit, wo Knut hier das fleißig angefangen hat in Dynamo alles umzusetzen, und es dann hieß ja, los muss mit Dynamo, vielleicht finden wir noch im Archiv irgendwo, einen konventionellen Bedarf. Eine konventionelle Bedatung. Gibt es eine Fortbedatung? Ein anderes Fortbedatungspaket, wo man das mit reinpacken könnte? Achso, warte, ich gucke. Fort Re-Engineering, das klingt doch überschaubar. Schau mal rein. Was du brauchst ist ja bloß eine Unterscheidung, ABS oder ESP anhand des Bremsdrucks, ob da irgendwas zurückkommt. Wenn wir ein anderes Projekt haben, wo wir das mit reinpacken, dann könnte man diesen komplizierten Scheiß sich eigentlich auch sparen. Hier gibt es keine echte ABS-Variante, weil bei Fort heißt es ja auch alles ABS, egal ob das ein ESP ist oder nicht. Guck doch mal auf das Varianten-Pattern, wie das angezogen wird. Hier ist ein Bremsdruckjob drin. Ja, ich wollte doch wissen, was das für ein Pattern ist, habe ich nicht gesehen. Ping. Das ist ja etwas anderes, als den Druck zu unterscheiden. Nein, weil das ein ESP ist. Das heißt bei Fort immer ABS heißt. Ja. Passt also nicht so richtig. Ja. Ja, wäre die Frage. Ja. Da wäre die Frage, ob man den Käse noch umbaut. Hm. Also es funktioniert ja. Es wird das ABS vom ESP unterschieden. Irgendwie hält es hin. Der Konstrukt, dass dort das 7F ausgewertet wird, also die Parameter, die es beim 7F scheint wahrscheinlich nicht zu funktionieren. Das will ich nicht genau. Also ich lasse das Hex zurückgeben, gucke es nach der Parameter-ID und eigentlich kommt eine 7.11 zurück. Das gibt aber auch kein Segnungs-Logos, das man sieht irgendwie mit einem... Moment. F gibt es doch was. Ticketverwaltung. Flix. PgRT, Rp. Hm. Hm. Hm. Hm. Hm. Hm. Hm. Hm. Hm. Hm. Hm. Hm. Hm. Hm. Hm. Hm. Ne, das ist nur hier das... nur Checker-Log. Hm. Hm. Hm. Hm. Hm. Hm. Hm. Hm. Ich finde es bei den Segnungsdokumenten auch jetzt nicht weiter, dass ich jetzt ein Segnungsdokument finde für BBKP, was das irgendwie gibt für eine Erfüllung aus dem Jahr 2019 noch.\n"
          ]
        }
      ]
    },
    {
      "cell_type": "code",
      "source": [
        "with open(\"transcription.txt\", \"w\", encoding=\"utf-8\") as f:\n",
        "    f.write(result[\"text\"])"
      ],
      "metadata": {
        "id": "dk9B4A8QEh3S"
      },
      "execution_count": 3,
      "outputs": []
    },
    {
      "cell_type": "code",
      "source": [
        "from google.colab import files\n",
        "files.download(\"transcription.txt\")\n"
      ],
      "metadata": {
        "colab": {
          "base_uri": "https://localhost:8080/",
          "height": 17
        },
        "id": "VTKCikyvE9a6",
        "outputId": "593f2837-2c6b-40e8-ea73-885545881f88"
      },
      "execution_count": 4,
      "outputs": [
        {
          "output_type": "display_data",
          "data": {
            "text/plain": [
              "<IPython.core.display.Javascript object>"
            ],
            "application/javascript": [
              "\n",
              "    async function download(id, filename, size) {\n",
              "      if (!google.colab.kernel.accessAllowed) {\n",
              "        return;\n",
              "      }\n",
              "      const div = document.createElement('div');\n",
              "      const label = document.createElement('label');\n",
              "      label.textContent = `Downloading \"${filename}\": `;\n",
              "      div.appendChild(label);\n",
              "      const progress = document.createElement('progress');\n",
              "      progress.max = size;\n",
              "      div.appendChild(progress);\n",
              "      document.body.appendChild(div);\n",
              "\n",
              "      const buffers = [];\n",
              "      let downloaded = 0;\n",
              "\n",
              "      const channel = await google.colab.kernel.comms.open(id);\n",
              "      // Send a message to notify the kernel that we're ready.\n",
              "      channel.send({})\n",
              "\n",
              "      for await (const message of channel.messages) {\n",
              "        // Send a message to notify the kernel that we're ready.\n",
              "        channel.send({})\n",
              "        if (message.buffers) {\n",
              "          for (const buffer of message.buffers) {\n",
              "            buffers.push(buffer);\n",
              "            downloaded += buffer.byteLength;\n",
              "            progress.value = downloaded;\n",
              "          }\n",
              "        }\n",
              "      }\n",
              "      const blob = new Blob(buffers, {type: 'application/binary'});\n",
              "      const a = document.createElement('a');\n",
              "      a.href = window.URL.createObjectURL(blob);\n",
              "      a.download = filename;\n",
              "      div.appendChild(a);\n",
              "      a.click();\n",
              "      div.remove();\n",
              "    }\n",
              "  "
            ]
          },
          "metadata": {}
        },
        {
          "output_type": "display_data",
          "data": {
            "text/plain": [
              "<IPython.core.display.Javascript object>"
            ],
            "application/javascript": [
              "download(\"download_d6a5c2d7-80ec-4895-8381-b54a092c6a98\", \"transcription.txt\", 30064)"
            ]
          },
          "metadata": {}
        }
      ]
    }
  ]
}